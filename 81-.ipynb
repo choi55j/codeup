{
 "cells": [
  {
   "cell_type": "code",
   "execution_count": 2,
   "id": "540ebe83",
   "metadata": {},
   "outputs": [
    {
     "name": "stdout",
     "output_type": "stream",
     "text": [
      "5\n",
      "5*1=5\n",
      "5*2=A\n",
      "5*3=F\n",
      "5*4=14\n",
      "5*5=19\n",
      "5*6=1E\n",
      "5*7=23\n",
      "5*8=28\n",
      "5*9=2D\n",
      "5*A=32\n",
      "5*B=37\n",
      "5*C=3C\n",
      "5*D=41\n",
      "5*E=46\n",
      "5*F=4B\n"
     ]
    }
   ],
   "source": [
    "n=int(input(),16)\n",
    "\n",
    "for i in range(1,16):\n",
    "    print('%X'%n, '*%X'%i, '=%X'%(n*i), sep='')"
   ]
  },
  {
   "cell_type": "markdown",
   "id": "bb9908b3",
   "metadata": {},
   "source": [
    "친구들과 함께 3 6 9 게임을 하던 영일이는 잦은 실수 때문에 계속해서 벌칙을 받게 되었다.\n",
    "3 6 9 게임의 왕이 되기 위한 369 마스터 프로그램을 작성해 보자.\n",
    "\n",
    "** 3 6 9 게임은?\n",
    "여러 사람이 순서를 정한 후, 순서대로 수를 부르는 게임이다.\n",
    "만약 3, 6, 9 가 들어간 수를 자신이 불러야 하는 상황이라면, 수를 부르는 대신 \"박수(X)\" 를 쳐야 한다.\n",
    "33과 같이 3,6,9가 두 번 들어간 수 일때, \"짝짝\"과 같이 박수를 두 번 치는 형태도 있다. \n",
    "\n",
    "참고 \n",
    "...\n",
    "for i in range(1, n+1) :\n",
    "  if i%10==3 :\n",
    "    print(\"X\", end=' ')    #출력 후 공백문자(빈칸, ' ')로 끝냄"
   ]
  },
  {
   "cell_type": "code",
   "execution_count": 119,
   "id": "989a7ed8",
   "metadata": {},
   "outputs": [
    {
     "name": "stdout",
     "output_type": "stream",
     "text": [
      "10\n",
      "1 2 X 4 5 X 7 8 X 10 "
     ]
    }
   ],
   "source": [
    "n=int(input())\n",
    "\n",
    "for i in range(1,n+1):\n",
    "    if i%10==3 or i%10==6 or i%10==9:\n",
    "        print(\"X\",end=' ')\n",
    "    else:\n",
    "        print(i,end=' ')"
   ]
  },
  {
   "cell_type": "markdown",
   "id": "e59df990",
   "metadata": {},
   "source": [
    "빨강(red), 초록(green), 파랑(blue) 빛을 섞어 여러 가지 다른 색 빛을 만들어 내려고 한다.\n",
    "\n",
    "빨강(r), 초록(g), 파랑(b) 각 빛의 가짓수가 주어질 때,\n",
    "주어진 rgb 빛들을 섞어 만들 수 있는 모든 경우의 조합(r g b)과 만들 수 있는 색의 가짓 수를 계산해보자.  \n",
    "\n",
    "**모니터, 스마트폰과 같은 디스플레이에서 각 픽셀의 색을 만들어내기 위해서 r, g, b 색을 조합할 수 있다.\n",
    "**픽셀(pixel)은 그림(picture)을 구성하는 셀(cell)에서 이름이 만들어졌다."
   ]
  },
  {
   "cell_type": "code",
   "execution_count": 129,
   "id": "d7758158",
   "metadata": {},
   "outputs": [
    {
     "name": "stdout",
     "output_type": "stream",
     "text": [
      "2 2 2\n",
      "0 0 0\n",
      "0 0 1\n",
      "0 1 0\n",
      "0 1 1\n",
      "1 0 0\n",
      "1 0 1\n",
      "1 1 0\n",
      "1 1 1\n",
      "8\n"
     ]
    }
   ],
   "source": [
    "r,g,b=map(int,input().split())\n",
    "\n",
    "for i in range(r):\n",
    "    for j in range(g):\n",
    "        for k in range(b):\n",
    "            print(i,j,k)\n",
    "print(r*g*b)"
   ]
  }
 ],
 "metadata": {
  "kernelspec": {
   "display_name": "Python 3 (ipykernel)",
   "language": "python",
   "name": "python3"
  },
  "language_info": {
   "codemirror_mode": {
    "name": "ipython",
    "version": 3
   },
   "file_extension": ".py",
   "mimetype": "text/x-python",
   "name": "python",
   "nbconvert_exporter": "python",
   "pygments_lexer": "ipython3",
   "version": "3.9.7"
  }
 },
 "nbformat": 4,
 "nbformat_minor": 5
}
