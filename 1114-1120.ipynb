{
 "cells": [
  {
   "cell_type": "markdown",
   "id": "9486a172",
   "metadata": {},
   "source": [
    "두 정수를 입력받아 합을 출력한다."
   ]
  },
  {
   "cell_type": "code",
   "execution_count": 2,
   "id": "400fcb2a",
   "metadata": {
    "scrolled": true
   },
   "outputs": [
    {
     "name": "stdout",
     "output_type": "stream",
     "text": [
      "5 7\n",
      "12\n"
     ]
    }
   ],
   "source": [
    "a,b=map(int,input().split())\n",
    "print(a+b)"
   ]
  },
  {
   "cell_type": "markdown",
   "id": "1f9ec4fb",
   "metadata": {},
   "source": [
    "두 정수의 덧셈의 결과를 출력한다.\n",
    "\n",
    "두 수는 int 범위를 넘어선 64비트 정수형 값이다."
   ]
  },
  {
   "cell_type": "code",
   "execution_count": 5,
   "id": "4f155096",
   "metadata": {},
   "outputs": [
    {
     "name": "stdout",
     "output_type": "stream",
     "text": [
      "11111111111 22222222222\n",
      "33333333333\n"
     ]
    }
   ],
   "source": [
    "a,b=map(int,input().split())\n",
    "print(a+b)"
   ]
  },
  {
   "cell_type": "markdown",
   "id": "94a75f81",
   "metadata": {},
   "source": [
    "두 정수를 입력받아 아래와 같이 출력하시오.\n",
    "\n",
    "예)  3 2\n",
    "```\n",
    "3+2=5\n",
    "3-2=1\n",
    "3*2=6\n",
    "3/2=1\n",
    "```"
   ]
  },
  {
   "cell_type": "code",
   "execution_count": 11,
   "id": "343fed75",
   "metadata": {},
   "outputs": [
    {
     "name": "stdout",
     "output_type": "stream",
     "text": [
      "3 2\n",
      "3+2=5\n",
      "3-2=1\n",
      "3*2=6\n",
      "3/2=1\n"
     ]
    }
   ],
   "source": [
    "a,b=map(int,input().split())\n",
    "print(f'{a}+{b}={a+b}')\n",
    "print(f'{a}-{b}={a-b}')\n",
    "print(f'{a}*{b}={a*b}')\n",
    "print(f'{a}/{b}={a//b}')"
   ]
  },
  {
   "cell_type": "markdown",
   "id": "0ae77912",
   "metadata": {},
   "source": [
    "두 실수를 입력받아 두 실수의 곱을 출력하되 소수 둘째자리까지 출력하시오.\n",
    "두 실수의 곱을 소수 둘째자리까지 출력한다."
   ]
  },
  {
   "cell_type": "code",
   "execution_count": 13,
   "id": "0c29d698",
   "metadata": {},
   "outputs": [
    {
     "name": "stdout",
     "output_type": "stream",
     "text": [
      "1.23 4.56\n",
      "5.61\n"
     ]
    }
   ],
   "source": [
    "a,b=map(float,input().split())\n",
    "print(format(a*b,'.2f'))"
   ]
  },
  {
   "cell_type": "markdown",
   "id": "0aec160f",
   "metadata": {},
   "source": [
    "삼각형의 넓이를 구하는 프로그램을 작성한다.\n",
    "\n",
    "삼각형의 넓이 = 밑변 * 높이 / 2\n",
    "\n",
    "삼각형의 넓이를 소수 첫째자리까지 출력한다."
   ]
  },
  {
   "cell_type": "code",
   "execution_count": 15,
   "id": "6079d292",
   "metadata": {},
   "outputs": [
    {
     "name": "stdout",
     "output_type": "stream",
     "text": [
      "5 2\n",
      "5.0\n"
     ]
    }
   ],
   "source": [
    "a,b=map(int,input().split())\n",
    "print(format(a*b/2,'.1f'))"
   ]
  },
  {
   "cell_type": "markdown",
   "id": "065cafae",
   "metadata": {},
   "source": [
    "하루는 24시간이다.\n",
    "\n",
    "일(day)이 입력으로 주어지면 시간으로 변환하시오."
   ]
  },
  {
   "cell_type": "code",
   "execution_count": 17,
   "id": "4f78024d",
   "metadata": {},
   "outputs": [
    {
     "name": "stdout",
     "output_type": "stream",
     "text": [
      "2\n",
      "48\n"
     ]
    }
   ],
   "source": [
    "a=int(input())\n",
    "print(a*24)"
   ]
  },
  {
   "cell_type": "code",
   "execution_count": 21,
   "id": "debc4123",
   "metadata": {},
   "outputs": [
    {
     "name": "stdout",
     "output_type": "stream",
     "text": [
      "1 2 3\n",
      "2.00\n"
     ]
    }
   ],
   "source": [
    "a,b,c=map(int,input().split())\n",
    "print(format((a+b+c)/3,'.2f'))"
   ]
  },
  {
   "cell_type": "code",
   "execution_count": null,
   "id": "ab06a67e",
   "metadata": {},
   "outputs": [],
   "source": []
  }
 ],
 "metadata": {
  "kernelspec": {
   "display_name": "Python 3 (ipykernel)",
   "language": "python",
   "name": "python3"
  },
  "language_info": {
   "codemirror_mode": {
    "name": "ipython",
    "version": 3
   },
   "file_extension": ".py",
   "mimetype": "text/x-python",
   "name": "python",
   "nbconvert_exporter": "python",
   "pygments_lexer": "ipython3",
   "version": "3.9.7"
  }
 },
 "nbformat": 4,
 "nbformat_minor": 5
}
