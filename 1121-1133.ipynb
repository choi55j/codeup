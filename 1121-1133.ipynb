{
 "cells": [
  {
   "cell_type": "markdown",
   "id": "5b3c1a47",
   "metadata": {},
   "source": [
    "# 1121\n",
    "정수 계산에서 나머지를 구하시오.\n",
    "\n",
    "예를 들어\n",
    "\n",
    "7 / 5 의 나머지는 2입니다."
   ]
  },
  {
   "cell_type": "code",
   "execution_count": 3,
   "id": "f4b5985f",
   "metadata": {
    "scrolled": true
   },
   "outputs": [
    {
     "name": "stdout",
     "output_type": "stream",
     "text": [
      "7 5\n",
      "2\n"
     ]
    }
   ],
   "source": [
    "a,b=map(int,input().split())\n",
    "print(a%b)"
   ]
  },
  {
   "cell_type": "markdown",
   "id": "507e7099",
   "metadata": {},
   "source": [
    "# 1122\n",
    "초를 입력받아 분 / 초의 형태로 출력하시오.\n",
    "\n",
    "예)\n",
    "\n",
    "60  ====>   1 0    (1분 0초를 뜻함)\n",
    "\n",
    "70    ====>    1  10       (1분 10초를 뜻함)"
   ]
  },
  {
   "cell_type": "code",
   "execution_count": 6,
   "id": "fde7acc5",
   "metadata": {},
   "outputs": [
    {
     "name": "stdout",
     "output_type": "stream",
     "text": [
      "70\n",
      "1 10\n"
     ]
    }
   ],
   "source": [
    "a=int(input())\n",
    "print(a//60,a%60)"
   ]
  },
  {
   "cell_type": "markdown",
   "id": "110bfe77",
   "metadata": {},
   "source": [
    "# 1123\n",
    "섭씨 온도가 입력되면 화씨 온도로 변환하시오.\n",
    "\n",
    "화씨 온도 = 9 / 5 * 섭씨온도 + 32"
   ]
  },
  {
   "cell_type": "code",
   "execution_count": 7,
   "id": "e3ad4823",
   "metadata": {},
   "outputs": [
    {
     "name": "stdout",
     "output_type": "stream",
     "text": [
      "30\n",
      "86.000\n"
     ]
    }
   ],
   "source": [
    "c= int(input())\n",
    "a=9/5*c+32\n",
    "print(format(a,'.3f'))"
   ]
  },
  {
   "cell_type": "markdown",
   "id": "9b0cce91",
   "metadata": {},
   "source": [
    "# 1125\n",
    "10진수 정수를 입력받아 8진수와 16진수로 출력한다."
   ]
  },
  {
   "cell_type": "code",
   "execution_count": 20,
   "id": "e0da4aba",
   "metadata": {
    "scrolled": true
   },
   "outputs": [
    {
     "name": "stdout",
     "output_type": "stream",
     "text": [
      "10\n",
      "12 A\n"
     ]
    }
   ],
   "source": [
    "a = int(input())\n",
    "print('%o'%a,'%X'%a) # %o = 8진수, %X = 16진수 대문자, %x = 16진수 소문자"
   ]
  },
  {
   "cell_type": "markdown",
   "id": "6f7ada7a",
   "metadata": {},
   "source": [
    "# 1131\n",
    "입력된 문자를 그대로 출력한다."
   ]
  },
  {
   "cell_type": "code",
   "execution_count": 28,
   "id": "8009d864",
   "metadata": {
    "scrolled": true
   },
   "outputs": [
    {
     "name": "stdout",
     "output_type": "stream",
     "text": [
      "아\n",
      "아\n"
     ]
    }
   ],
   "source": [
    "b=input()\n",
    "print('%c'%b) # 한 단어"
   ]
  },
  {
   "cell_type": "markdown",
   "id": "8bb2d455",
   "metadata": {},
   "source": [
    "# 1132\n",
    "한 단어를 입력받아 출력한다."
   ]
  },
  {
   "cell_type": "code",
   "execution_count": 24,
   "id": "da3e441f",
   "metadata": {},
   "outputs": [
    {
     "name": "stdout",
     "output_type": "stream",
     "text": [
      "cat\n",
      "cat\n"
     ]
    }
   ],
   "source": [
    "b=input()\n",
    "print('%s'%b) # 한 단어"
   ]
  },
  {
   "cell_type": "markdown",
   "id": "ebb4903d",
   "metadata": {},
   "source": [
    "# 1133\n",
    "scanf(\"%s\", str);를 사용하면 공백이후의 문자를 입력받지 못한다.\n",
    "\n",
    "공백이 있는 문자열을 입력받아 출력해보자."
   ]
  },
  {
   "cell_type": "code",
   "execution_count": 27,
   "id": "e6faad99",
   "metadata": {},
   "outputs": [
    {
     "name": "stdout",
     "output_type": "stream",
     "text": [
      "black sheep wall\n",
      "black sheep wall\n"
     ]
    }
   ],
   "source": [
    "a=input()\n",
    "print('%s'%a) # 파이썬은 공백 문자열도 상관없이 출력"
   ]
  },
  {
   "cell_type": "code",
   "execution_count": null,
   "id": "723141a6",
   "metadata": {},
   "outputs": [],
   "source": []
  }
 ],
 "metadata": {
  "kernelspec": {
   "display_name": "Python 3 (ipykernel)",
   "language": "python",
   "name": "python3"
  },
  "language_info": {
   "codemirror_mode": {
    "name": "ipython",
    "version": 3
   },
   "file_extension": ".py",
   "mimetype": "text/x-python",
   "name": "python",
   "nbconvert_exporter": "python",
   "pygments_lexer": "ipython3",
   "version": "3.9.7"
  }
 },
 "nbformat": 4,
 "nbformat_minor": 5
}
