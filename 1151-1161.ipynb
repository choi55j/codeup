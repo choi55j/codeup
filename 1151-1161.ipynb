{
 "cells": [
  {
   "cell_type": "markdown",
   "id": "0cab6874",
   "metadata": {},
   "source": [
    "# 1151"
   ]
  },
  {
   "cell_type": "markdown",
   "id": "05a50b5d",
   "metadata": {},
   "source": [
    "10보다 작은 수가 입력되면 small 을 출력, 10이상이면 아무것도 출력하지 마시오."
   ]
  },
  {
   "cell_type": "code",
   "execution_count": 1,
   "id": "27a0193e",
   "metadata": {},
   "outputs": [
    {
     "name": "stdout",
     "output_type": "stream",
     "text": [
      "9\n",
      "small\n"
     ]
    }
   ],
   "source": [
    "a=int(input())\n",
    "if a<10:\n",
    "    print('small')"
   ]
  },
  {
   "cell_type": "markdown",
   "id": "ec8d5783",
   "metadata": {},
   "source": [
    "# 1152"
   ]
  },
  {
   "cell_type": "markdown",
   "id": "54892d3d",
   "metadata": {},
   "source": [
    "10보다 작은 정수가 입력되면 small 을 출력, 그 이상의 수가 입력되면 big 을 출력하시오."
   ]
  },
  {
   "cell_type": "code",
   "execution_count": 2,
   "id": "5c371cb4",
   "metadata": {},
   "outputs": [
    {
     "name": "stdout",
     "output_type": "stream",
     "text": [
      "11\n",
      "big\n"
     ]
    }
   ],
   "source": [
    "a=int(input())\n",
    "if a<10:\n",
    "    print('small')\n",
    "else:\n",
    "    print('big')"
   ]
  },
  {
   "cell_type": "markdown",
   "id": "21ea7139",
   "metadata": {},
   "source": [
    "# 1153"
   ]
  },
  {
   "cell_type": "markdown",
   "id": "1665390b",
   "metadata": {},
   "source": [
    "두 정수가 입력된다.  두 정수의 크기를 비교하여 왼쪽 수가 크면 > 를 출력, 오른쪽 수가 크면 < 를 출력, 같으면 = 을 출력하시오."
   ]
  },
  {
   "cell_type": "code",
   "execution_count": 7,
   "id": "9bbf009f",
   "metadata": {},
   "outputs": [
    {
     "name": "stdout",
     "output_type": "stream",
     "text": [
      "2 6\n",
      "<\n"
     ]
    }
   ],
   "source": [
    "a,b=map(int,input().split())\n",
    "\n",
    "if a>b:\n",
    "    print('>')\n",
    "elif a<b:\n",
    "    print('<')\n",
    "else:\n",
    "    print('=')"
   ]
  },
  {
   "cell_type": "markdown",
   "id": "1a911dec",
   "metadata": {},
   "source": [
    "# 1154"
   ]
  },
  {
   "cell_type": "markdown",
   "id": "1a83546c",
   "metadata": {},
   "source": [
    "정수 두개가 입력으로 들어오면 큰수 - 작은수의 값을 출력하시오."
   ]
  },
  {
   "cell_type": "code",
   "execution_count": 10,
   "id": "0c2046a8",
   "metadata": {},
   "outputs": [
    {
     "name": "stdout",
     "output_type": "stream",
     "text": [
      "5 7\n",
      "2\n"
     ]
    }
   ],
   "source": [
    "a,b=map(int,input().split())\n",
    "if a>b:\n",
    "    print(f'{a-b}')\n",
    "else:\n",
    "    print(f'{b-a}')"
   ]
  },
  {
   "cell_type": "markdown",
   "id": "36dc161b",
   "metadata": {},
   "source": [
    "# 1155"
   ]
  },
  {
   "cell_type": "markdown",
   "id": "faa75b02",
   "metadata": {},
   "source": [
    "인학이는 숫자 7을 좋아한다.\n",
    "\n",
    "어떤 정수가 입력되면 그 수가 7의 배수인지 확인하시오."
   ]
  },
  {
   "cell_type": "code",
   "execution_count": 11,
   "id": "0b64fe4f",
   "metadata": {},
   "outputs": [
    {
     "name": "stdout",
     "output_type": "stream",
     "text": [
      "8\n",
      "not multipe\n"
     ]
    }
   ],
   "source": [
    "a = int(input())\n",
    "if a%7==0:\n",
    "    print('multiple')\n",
    "else:\n",
    "    print('not multiple')"
   ]
  },
  {
   "cell_type": "markdown",
   "id": "498b6c2d",
   "metadata": {},
   "source": [
    "# 1156"
   ]
  },
  {
   "cell_type": "markdown",
   "id": "23086ab4",
   "metadata": {},
   "source": [
    "용준이와 봉찬이는 공기 놀이로 내기를 하였다.\n",
    "\n",
    "만약 홀수개의 돌을 쥐게 되면 용준이가 이기게 되고, 짝수개의 돌을 쥐게 되면 봉찬이가 이기는 것으로 룰을 정하였다.\n",
    "\n",
    " \n",
    "\n",
    "어떤 자연수가 입력되면  홀수이면 \"odd\"을 출력하고, 짝수이면 \"even\"을 출력하시오."
   ]
  },
  {
   "cell_type": "code",
   "execution_count": 12,
   "id": "a284cbab",
   "metadata": {},
   "outputs": [
    {
     "name": "stdout",
     "output_type": "stream",
     "text": [
      "5\n",
      "odd\n"
     ]
    }
   ],
   "source": [
    "a = int(input())\n",
    "if a%2==0:\n",
    "    print('even')\n",
    "else:\n",
    "    print('odd')"
   ]
  },
  {
   "cell_type": "markdown",
   "id": "db45863a",
   "metadata": {},
   "source": [
    "# 1157"
   ]
  },
  {
   "cell_type": "markdown",
   "id": "d672a9d5",
   "metadata": {},
   "source": [
    "슬기는 체육 선생님과 공던지기로 아이스크림 내기를 하게 됐다.\n",
    "\n",
    "공을 던져서 50m ~ 60m 사이에 공이 들어가면 슬기가 이기게 되고, 그 외에 공이 떨어지면 체육선생님이 이기게 룰을 정했다.\n",
    "\n",
    "슬기가 던진 공의 위치가 입력으로 주어지면 50이상 60이하이면 \"win\"을 출력하고, 그 외에는 \"lose\"를 출력하시오."
   ]
  },
  {
   "cell_type": "code",
   "execution_count": 13,
   "id": "be5353c5",
   "metadata": {},
   "outputs": [
    {
     "name": "stdout",
     "output_type": "stream",
     "text": [
      "50.213\n",
      "win\n"
     ]
    }
   ],
   "source": [
    "a = float(input())\n",
    "if a>=50 and a<=60:\n",
    "    print('win')\n",
    "else:\n",
    "    print('lose')"
   ]
  },
  {
   "cell_type": "markdown",
   "id": "50f338c2",
   "metadata": {},
   "source": [
    "# 1158"
   ]
  },
  {
   "cell_type": "markdown",
   "id": "b7f49d10",
   "metadata": {},
   "source": [
    "슬기는 지난 번 공던지기에서 져서 아이스크림을 사게되었다.\n",
    "\n",
    "얼마 뒤 열받은 슬기는 체육 선생님에게 다시 한번 공던지기를 하여 아이스크림 내기를 하자고 제안하였다.\n",
    "\n",
    "그런데 이번에는 불리한 슬기가 다음 룰을 제안하였다.\n",
    "\n",
    "1. 공이 30m~40m나 60m~70m 에 들어오면 슬기가 이김.\n",
    "\n",
    "2. 그 외의 구간에 떨어지면 체육선생님이 이김.\n",
    "\n",
    "슬기가 던진 공의 위치가 입력으로 주어지면 슬기가 이기는 구간에는 \"win\"을 출력하고, 그 외에는 \"lose\"를 출력하시오."
   ]
  },
  {
   "cell_type": "code",
   "execution_count": 22,
   "id": "275afa15",
   "metadata": {},
   "outputs": [
    {
     "name": "stdout",
     "output_type": "stream",
     "text": [
      "50\n",
      "lose\n"
     ]
    }
   ],
   "source": [
    "a = int(input())\n",
    "\n",
    "if a>=30 and a<=40 or a>=60 and a<=70:\n",
    "    print('win')\n",
    "else:\n",
    "    print('lose')"
   ]
  },
  {
   "cell_type": "markdown",
   "id": "b725f425",
   "metadata": {},
   "source": [
    "# 1159"
   ]
  },
  {
   "cell_type": "markdown",
   "id": "87a4170d",
   "metadata": {},
   "source": [
    "슬기는 지난 번에도 공던지기에 져서 아이스크림을 사게되었다.\n",
    "\n",
    "슬기는 이미 돈이 다 떨어져서 현량이에게 돈을 빌린 상태이다.\n",
    "\n",
    "이번에는 슬기가 또 다른 조건을 내걸고 체육 선생님에게 도전하게 되었다. \n",
    "\n",
    "1. 공의 위치가 50m~70m이면 슬기가 이김.\n",
    "\n",
    "또는\n",
    "\n",
    "2. 공의 위치가 6의 배수이면 슬기가 이김. \n",
    "\n",
    "슬기가 던진 공의 위치가 입력으로 주어지면 슬기가 이기는 구간에는 \"win\"을 출력하고, 그 외에는 \"lose\"를 출력하시오."
   ]
  },
  {
   "cell_type": "code",
   "execution_count": 23,
   "id": "5e6167c0",
   "metadata": {},
   "outputs": [
    {
     "name": "stdout",
     "output_type": "stream",
     "text": [
      "30\n",
      "win\n"
     ]
    }
   ],
   "source": [
    "a = int(input())\n",
    "\n",
    "if a>=50 and a<=70 or a%6==0:\n",
    "    print('win')\n",
    "else:\n",
    "    print('lose')"
   ]
  },
  {
   "cell_type": "markdown",
   "id": "7dda651c",
   "metadata": {},
   "source": [
    "# 1160"
   ]
  },
  {
   "cell_type": "markdown",
   "id": "92cdddf4",
   "metadata": {},
   "source": [
    "주원이는 월, 수, 금, 일 아르바이트를 간다.\n",
    "\n",
    "다음은 요일의 순서이다.\n",
    "\n",
    "월요일\n",
    "\n",
    "화요일\n",
    "\n",
    "수요일\n",
    "\n",
    "목요일\n",
    "\n",
    "금요일\n",
    "\n",
    "토요일\n",
    "\n",
    "일요일\n",
    "\n",
    "요일의 번호가 입력으로 주어지면 그 날이 아르바이트 가는 날이면 \"oh my god\"를 가는 날이 아니면 \"enjoy\"를 출력하시오."
   ]
  },
  {
   "cell_type": "code",
   "execution_count": 28,
   "id": "8b555279",
   "metadata": {},
   "outputs": [
    {
     "name": "stdout",
     "output_type": "stream",
     "text": [
      "7\n",
      "oh my god\n"
     ]
    }
   ],
   "source": [
    "a = int(input())\n",
    "\n",
    "if a%2==1:\n",
    "    print('oh my god')\n",
    "else:\n",
    "    print('enjoy')"
   ]
  },
  {
   "cell_type": "markdown",
   "id": "c661571b",
   "metadata": {},
   "source": [
    "# 1161"
   ]
  },
  {
   "cell_type": "markdown",
   "id": "42d8d269",
   "metadata": {},
   "source": [
    "정수 두개가 입력으로 들어온다.\n",
    "\n",
    "만약 첫번째 정수가 홀수이면 \"홀수\"를 출력하고, 짝수이면 \"짝수\"를 출력한 후  \"+\"를 출력한다.\n",
    "\n",
    "그리고 두번째 정수가 홀수이면 \"홀수\"를 출력하고, 짝수이면 \"짝수\"를 출력한 후  \"=\"을 출력하고 결과로 나오는 값이 홀수인지 짝수인지 출력한다.\n",
    "\n",
    " \n",
    "\n",
    "예를들어,\n",
    "\n",
    "5 7 이 입력되면 \"홀수+홀수=짝수\"가 출력된다.\n",
    "\n",
    "5 6 이 입력되면 \"홀수+짝수=홀수\"가 출력된다."
   ]
  },
  {
   "cell_type": "code",
   "execution_count": 30,
   "id": "25277787",
   "metadata": {},
   "outputs": [
    {
     "name": "stdout",
     "output_type": "stream",
     "text": [
      "2 3\n",
      "짝수+홀수=홀수\n"
     ]
    }
   ],
   "source": [
    "a,b=map(int,input().split())\n",
    "\n",
    "if a%2==1:\n",
    "    print('홀수+',end='')\n",
    "else:\n",
    "    print('짝수+',end='')\n",
    "if b%2==1:\n",
    "    print('홀수=',end='')\n",
    "else:\n",
    "    print('짝수=',end='')\n",
    "    \n",
    "c = a+b\n",
    "if c%2==1:\n",
    "    print('홀수')\n",
    "else:\n",
    "    print('짝수')"
   ]
  }
 ],
 "metadata": {
  "kernelspec": {
   "display_name": "Python 3 (ipykernel)",
   "language": "python",
   "name": "python3"
  },
  "language_info": {
   "codemirror_mode": {
    "name": "ipython",
    "version": 3
   },
   "file_extension": ".py",
   "mimetype": "text/x-python",
   "name": "python",
   "nbconvert_exporter": "python",
   "pygments_lexer": "ipython3",
   "version": "3.9.7"
  }
 },
 "nbformat": 4,
 "nbformat_minor": 5
}
