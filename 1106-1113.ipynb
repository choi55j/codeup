{
 "cells": [
  {
   "cell_type": "markdown",
   "id": "ba62ff8e",
   "metadata": {},
   "source": [
    "앞으로 많이 사용될 변수 int 자료형의 범위를 알아내는 것이 이번 문제의 정답이다.\n",
    "\n",
    "int는 정수형이고 32비트 자료형이다.\n",
    "\n",
    "2진수로 나타내면 가장 작은 숫자는\n",
    "\n",
    "10000000 00000000 00000000 00000000\n",
    "\n",
    "이고, 가장 큰 숫자는 \n",
    "\n",
    "01111111 11111111 11111111 11111111\n",
    "\n",
    "이다.\n",
    "\n",
    "우리는 16진수 입력방법을 이용하면 쉽게 이 문제를 해결할 수 있다."
   ]
  },
  {
   "cell_type": "code",
   "execution_count": 7,
   "id": "212c9a09",
   "metadata": {},
   "outputs": [
    {
     "name": "stdout",
     "output_type": "stream",
     "text": [
      "-2147483648 2147483647\n"
     ]
    }
   ],
   "source": [
    "a=-2147483648\n",
    "b=2147483647\n",
    "print(a,b)"
   ]
  },
  {
   "cell_type": "markdown",
   "id": "43413037",
   "metadata": {},
   "source": [
    "다음 문장을 출력하시오.\n",
    "\n",
    "special characters\n",
    "[\\n,\\\",\\\\] is very important."
   ]
  },
  {
   "cell_type": "code",
   "execution_count": 12,
   "id": "102a63a0",
   "metadata": {},
   "outputs": [
    {
     "name": "stdout",
     "output_type": "stream",
     "text": [
      "special characters\n",
      "[\\n,\\\",\\\\] is very important.\n"
     ]
    }
   ],
   "source": [
    "print('special characters\\n[\\\\n,\\\\\",\\\\\\] is very important.')"
   ]
  },
  {
   "cell_type": "markdown",
   "id": "beea17d6",
   "metadata": {},
   "source": [
    "입력받은 정수를 그대로 출력한다.\n",
    "\n",
    "(scanf앞에 불필요한 안내 문구를 출력하지 않도록 합니다.)"
   ]
  },
  {
   "cell_type": "code",
   "execution_count": 16,
   "id": "9506c181",
   "metadata": {},
   "outputs": [
    {
     "name": "stdout",
     "output_type": "stream",
     "text": [
      "5\n",
      "5\n"
     ]
    }
   ],
   "source": [
    "a=int(input())\n",
    "print(a)"
   ]
  },
  {
   "cell_type": "markdown",
   "id": "e8d7ca09",
   "metadata": {},
   "source": [
    "어떤 정수가 입력되면 %를 붙여 출력하시오."
   ]
  },
  {
   "cell_type": "code",
   "execution_count": 18,
   "id": "2cc401e1",
   "metadata": {},
   "outputs": [
    {
     "name": "stdout",
     "output_type": "stream",
     "text": [
      "5\n",
      "5%\n"
     ]
    }
   ],
   "source": [
    "a=int(input())\n",
    "print(f'{a}%')"
   ]
  },
  {
   "cell_type": "markdown",
   "id": "006e648e",
   "metadata": {},
   "source": [
    "입력 받은 두 정수를 출력한다."
   ]
  },
  {
   "cell_type": "code",
   "execution_count": 23,
   "id": "c3f79837",
   "metadata": {},
   "outputs": [
    {
     "name": "stdout",
     "output_type": "stream",
     "text": [
      "5 7\n",
      "5 7\n"
     ]
    }
   ],
   "source": [
    "a,b=map(int,input().split())\n",
    "print(a,b)"
   ]
  },
  {
   "cell_type": "markdown",
   "id": "63792133",
   "metadata": {},
   "source": [
    "두 정수를 입력받아 순서를 바꿔서 출력하시오."
   ]
  },
  {
   "cell_type": "code",
   "execution_count": 24,
   "id": "135a05ea",
   "metadata": {},
   "outputs": [
    {
     "name": "stdout",
     "output_type": "stream",
     "text": [
      "1 2\n",
      "2 1\n"
     ]
    }
   ],
   "source": [
    "a,b=map(int,input().split())\n",
    "print(b,a)"
   ]
  }
 ],
 "metadata": {
  "kernelspec": {
   "display_name": "Python 3 (ipykernel)",
   "language": "python",
   "name": "python3"
  },
  "language_info": {
   "codemirror_mode": {
    "name": "ipython",
    "version": 3
   },
   "file_extension": ".py",
   "mimetype": "text/x-python",
   "name": "python",
   "nbconvert_exporter": "python",
   "pygments_lexer": "ipython3",
   "version": "3.9.7"
  }
 },
 "nbformat": 4,
 "nbformat_minor": 5
}
