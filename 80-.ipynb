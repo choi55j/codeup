{
 "cells": [
  {
   "cell_type": "markdown",
   "id": "8cd6379a",
   "metadata": {},
   "source": [
    "1부터 n까지, 1부터 m까지 숫자가 적힌 서로 다른 주사위 2개를 던졌을 때,\n",
    "나올 수 있는 모든 경우를 출력해보자.\n",
    "\n",
    "예시\n",
    "...\n",
    "for i in range(1, n+1) :\n",
    "  for j in range(1, m+1) :\n",
    "    print(i, j)\n",
    "...\n",
    "\n",
    "참고\n",
    "위 코드는\n",
    "바깥쪽의 i 값이 1부터 n까지 순서대로 바뀌는 각각의 동안에\n",
    "안쪽의 j 값이 다시 1부터 m까지 변하며 출력되는 코드이다.\n",
    "\n",
    "조건선택 실행구조 안에 다른 조건선택 실행구조를 넣어 처리할 수 있는 것과 마찬가지로\n",
    "반복 실행구조 안에 다른 반복 실행구조를 넣어 처리할 수 있다.\n",
    "\n",
    "원하는 형태로 실행 구조를 결합하거나 중첩시킬 수 있다."
   ]
  },
  {
   "cell_type": "code",
   "execution_count": 13,
   "id": "0da3abcb",
   "metadata": {},
   "outputs": [
    {
     "name": "stdout",
     "output_type": "stream",
     "text": [
      "2\n",
      "3\n",
      "1 1\n",
      "1 2\n",
      "1 3\n",
      "2 1\n",
      "2 2\n",
      "2 3\n"
     ]
    }
   ],
   "source": [
    "n,m=map(int,input().split())\n",
    "\n",
    "if n<=10:\n",
    "    if m<=10:\n",
    "        for i in range(1, n+1) :\n",
    "            for j in range(1, m+1) :\n",
    "                print(i, j)\n",
    "    else:\n",
    "        print('숫자가 너무 큽니다!')\n",
    "else:\n",
    "    print('숫자가 너무 큽니다!')"
   ]
  },
  {
   "cell_type": "code",
   "execution_count": 21,
   "id": "23d95beb",
   "metadata": {},
   "outputs": [
    {
     "name": "stdout",
     "output_type": "stream",
     "text": [
      "2 3\n",
      "1 1\n",
      "1 2\n",
      "1 3\n",
      "2 1\n",
      "2 2\n",
      "2 3\n"
     ]
    }
   ],
   "source": [
    "n,m=map(int,input().split())\n",
    "\n",
    "for i in range(1, n+1) :\n",
    "            for j in range(1, m+1) :\n",
    "                print(i, j)"
   ]
  },
  {
   "cell_type": "markdown",
   "id": "4a6b44ba",
   "metadata": {},
   "source": [
    "16진수(0, 1, 2, 3, 4, 5, 6, 7, 8, 9, A, B, C, D, E, F)를 배운\n",
    "영일이는 16진수끼리 곱하는 16진수 구구단?에 대해서 궁금해졌다.\n",
    "\n",
    "A, B, C, D, E, F 중 하나가 입력될 때,\n",
    "1부터 F까지 곱한 16진수 구구단의 내용을 출력해보자.\n",
    "(단, A ~ F 까지만 입력된다.)\n",
    "\n",
    "예시\n",
    "...\n",
    "  print('%X'%n, '*%X'%i, '=%X'%(n*i), sep='')\n",
    "...\n",
    "\n",
    "참고\n",
    "print('%X'%n)    #n에 저장되어있는 값을 16진수(hexadecimal) 형태로 출력\n",
    "작은 따옴표 2개를 사용해서 print(..., sep='') 으로 출력하면, 공백없이 모두 붙여 출력된다.\n",
    "작은 따옴표 2개 '' 또는 큰 따옴표 2개 \"\" 는 아무 문자도 없는 빈문자열(empty string)을 의미한다."
   ]
  },
  {
   "cell_type": "code",
   "execution_count": 26,
   "id": "389bb514",
   "metadata": {},
   "outputs": [
    {
     "name": "stdout",
     "output_type": "stream",
     "text": [
      "4\n",
      "4*1=4\n",
      "4*2=8\n",
      "4*3=C\n",
      "4*4=10\n",
      "4*5=14\n",
      "4*6=18\n",
      "4*7=1C\n",
      "4*8=20\n",
      "4*9=24\n",
      "4*A=28\n",
      "4*B=2C\n",
      "4*C=30\n",
      "4*D=34\n",
      "4*E=38\n",
      "4*F=3C\n"
     ]
    }
   ],
   "source": [
    "a= int(input(), 16) # input(), 16을 붙이면 10진수에서 16진수로 변환\n",
    "\n",
    "for i in range(1, 16):\n",
    "\tprint('%X'%a, '*%X'%i, '=%X'%(a*i), sep='') # sep='' 공백 없이 출력, '%X' = 16진수를 대문자로, '%x' = 16진수를 소문자로"
   ]
  }
 ],
 "metadata": {
  "kernelspec": {
   "display_name": "Python 3 (ipykernel)",
   "language": "python",
   "name": "python3"
  },
  "language_info": {
   "codemirror_mode": {
    "name": "ipython",
    "version": 3
   },
   "file_extension": ".py",
   "mimetype": "text/x-python",
   "name": "python",
   "nbconvert_exporter": "python",
   "pygments_lexer": "ipython3",
   "version": "3.11.4"
  }
 },
 "nbformat": 4,
 "nbformat_minor": 5
}
